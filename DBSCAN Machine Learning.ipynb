{
  "nbformat": 4,
  "nbformat_minor": 0,
  "metadata": {
    "colab": {
      "private_outputs": true,
      "provenance": []
    },
    "kernelspec": {
      "name": "python3",
      "display_name": "Python 3"
    },
    "language_info": {
      "name": "python"
    }
  },
  "cells": [
    {
      "cell_type": "code",
      "execution_count": null,
      "metadata": {
        "id": "HuYxOSLFUXvb"
      },
      "outputs": [],
      "source": [
        "import pandas as pd\n",
        "import numpy as np\n",
        "import matplotlib.pyplot as plt\n",
        "import seaborn as sns"
      ]
    },
    {
      "cell_type": "code",
      "source": [
        "df=pd.read_csv(\"/content/Mall_Customers.csv\")\n",
        "df.head(10)"
      ],
      "metadata": {
        "id": "qfZenfIqUsp3"
      },
      "execution_count": null,
      "outputs": []
    },
    {
      "cell_type": "code",
      "source": [
        "df.describe()"
      ],
      "metadata": {
        "id": "P0VMYGQfU1vU"
      },
      "execution_count": null,
      "outputs": []
    },
    {
      "cell_type": "code",
      "source": [
        "df.info()"
      ],
      "metadata": {
        "id": "S5e_ayJTU33X"
      },
      "execution_count": null,
      "outputs": []
    },
    {
      "cell_type": "code",
      "source": [
        "df.shape"
      ],
      "metadata": {
        "id": "_pLZG8EfU6UE"
      },
      "execution_count": null,
      "outputs": []
    },
    {
      "cell_type": "code",
      "source": [
        "df.isnull().sum()"
      ],
      "metadata": {
        "id": "FkmsiGYTU78v"
      },
      "execution_count": null,
      "outputs": []
    },
    {
      "cell_type": "code",
      "source": [
        "df['Gender']=pd.to_numeric(df['Gender'],errors='coerce')"
      ],
      "metadata": {
        "id": "Q9V-EI4-VEBN"
      },
      "execution_count": null,
      "outputs": []
    },
    {
      "cell_type": "code",
      "source": [
        "#df['Gender']=pd.Categorical(df['Gender']).codes"
      ],
      "metadata": {
        "id": "YrNUnWuSVT7z"
      },
      "execution_count": null,
      "outputs": []
    },
    {
      "cell_type": "code",
      "source": [
        "df.drop(\"Gender\",axis=1,inplace=True)"
      ],
      "metadata": {
        "id": "j8g3Qsg_V3jy"
      },
      "execution_count": null,
      "outputs": []
    },
    {
      "cell_type": "code",
      "source": [
        "corr_mat=df.corr()\n",
        "corr_mat"
      ],
      "metadata": {
        "id": "vNUGVyY0V-RY"
      },
      "execution_count": null,
      "outputs": []
    },
    {
      "cell_type": "code",
      "source": [
        "sns.heatmap(corr_mat,annot=True,linewidths=1.5,linecolor=\"red\")\n",
        "plt.title(\"Correlation between the variables\")\n",
        "plt.show()"
      ],
      "metadata": {
        "id": "XL6N2bHmWF_P"
      },
      "execution_count": null,
      "outputs": []
    },
    {
      "cell_type": "code",
      "source": [
        "df1=df.drop([\"CustomerID\"],axis=1)\n",
        "df1.head()"
      ],
      "metadata": {
        "id": "4ow5ScudWeNO"
      },
      "execution_count": null,
      "outputs": []
    },
    {
      "cell_type": "code",
      "source": [
        "#df1=pd.get_dummies(df1,columns=\"Gender\")\n",
        "#df1.head()"
      ],
      "metadata": {
        "id": "ZgAIussJWnr3"
      },
      "execution_count": null,
      "outputs": []
    },
    {
      "cell_type": "code",
      "source": [
        "from sklearn.cluster import DBSCAN\n",
        "from sklearn.metrics import silhouette_score\n",
        "from itertools import product"
      ],
      "metadata": {
        "id": "iK4unUk_Wz4V"
      },
      "execution_count": null,
      "outputs": []
    },
    {
      "cell_type": "code",
      "source": [
        "dbs=DBSCAN(eps=10.5,min_samples=5).fit(df1)"
      ],
      "metadata": {
        "id": "gIoIe_fLXkZk"
      },
      "execution_count": null,
      "outputs": []
    },
    {
      "cell_type": "code",
      "source": [
        "dbscan=df.copy()\n",
        "dbscan.loc[:,\"Cluster\"]=dbs.labels_\n",
        "dbscan.head()"
      ],
      "metadata": {
        "id": "sMkIxGDoX1mb"
      },
      "execution_count": null,
      "outputs": []
    },
    {
      "cell_type": "code",
      "source": [
        "scan_clust=dbscan.groupby(\"Cluster\").size().to_frame()\n",
        "scan_clust.columns=[\"Dbscan_size\"]\n",
        "scan_clust"
      ],
      "metadata": {
        "id": "UyRJhuQRYRqb"
      },
      "execution_count": null,
      "outputs": []
    },
    {
      "cell_type": "code",
      "source": [
        "out=dbscan[dbscan[\"Cluster\"]==-1]\n",
        "out"
      ],
      "metadata": {
        "id": "lnkZ3fBHYnHe"
      },
      "execution_count": null,
      "outputs": []
    },
    {
      "cell_type": "code",
      "source": [
        "ax=sns.scatterplot(x=\"Annual Income (k$)\",y=\"Spending Score (1-100)\",data=dbscan[dbscan[\"Cluster\"]!=-1],hue=\"Cluster\",palette=\"Set1\",legend=\"full\",s=45)"
      ],
      "metadata": {
        "id": "0bwksS7XY0DD"
      },
      "execution_count": null,
      "outputs": []
    }
  ]
}